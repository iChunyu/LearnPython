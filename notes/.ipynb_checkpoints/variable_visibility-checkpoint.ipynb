{
 "cells": [
  {
   "cell_type": "markdown",
   "id": "78e4e974",
   "metadata": {},
   "source": [
    "# Python 变量可见性\n",
    "\n",
    "\n",
    "参考： [Python Notes: Variable Visibility](https://baihuqian.github.io/2018-09-08-python-variable-visibility/#:~:text=Without%20nonlocal%20keyword%2C%20Python%20creates%20a%20new%20variable,declaring%20a%20new%20variable%20that%20shadows%20its%20name.)"
   ]
  },
  {
   "cell_type": "markdown",
   "id": "fbed0d65",
   "metadata": {},
   "source": [
    "## 变量的全局可见性\n",
    "\n",
    "Python 的变量是全局可见的：\n",
    "\n",
    "- 函数内部可以访问外部变量；\n",
    "- 函数内部不能对变量进行修改；\n",
    "- 函数内的同名变量为局部变量。\n"
   ]
  },
  {
   "cell_type": "code",
   "execution_count": 1,
   "id": "34138972",
   "metadata": {},
   "outputs": [
    {
     "name": "stdout",
     "output_type": "stream",
     "text": [
      "Hello World!\n"
     ]
    }
   ],
   "source": [
    "msg = 'Hello World!'\n",
    "\n",
    "def fun1():\n",
    "    print(msg)\n",
    "    \n",
    "\n",
    "fun1()"
   ]
  },
  {
   "cell_type": "code",
   "execution_count": 2,
   "id": "f865067c",
   "metadata": {},
   "outputs": [
    {
     "ename": "UnboundLocalError",
     "evalue": "local variable 'msg' referenced before assignment",
     "output_type": "error",
     "traceback": [
      "\u001b[0;31m---------------------------------------------------------------------------\u001b[0m",
      "\u001b[0;31mUnboundLocalError\u001b[0m                         Traceback (most recent call last)",
      "\u001b[0;32m/tmp/ipykernel_68088/3030278689.py\u001b[0m in \u001b[0;36m<module>\u001b[0;34m\u001b[0m\n\u001b[1;32m      4\u001b[0m \u001b[0;34m\u001b[0m\u001b[0m\n\u001b[1;32m      5\u001b[0m \u001b[0;34m\u001b[0m\u001b[0m\n\u001b[0;32m----> 6\u001b[0;31m \u001b[0mfun2\u001b[0m\u001b[0;34m(\u001b[0m\u001b[0;34m)\u001b[0m\u001b[0;34m\u001b[0m\u001b[0;34m\u001b[0m\u001b[0m\n\u001b[0m",
      "\u001b[0;32m/tmp/ipykernel_68088/3030278689.py\u001b[0m in \u001b[0;36mfun2\u001b[0;34m()\u001b[0m\n\u001b[1;32m      1\u001b[0m \u001b[0;32mdef\u001b[0m \u001b[0mfun2\u001b[0m\u001b[0;34m(\u001b[0m\u001b[0;34m)\u001b[0m\u001b[0;34m:\u001b[0m\u001b[0;34m\u001b[0m\u001b[0;34m\u001b[0m\u001b[0m\n\u001b[1;32m      2\u001b[0m     \u001b[0;31m# 只能访问不能修改，将会报错\u001b[0m\u001b[0;34m\u001b[0m\u001b[0;34m\u001b[0m\u001b[0;34m\u001b[0m\u001b[0m\n\u001b[0;32m----> 3\u001b[0;31m     \u001b[0mmsg\u001b[0m \u001b[0;34m=\u001b[0m \u001b[0mmsg\u001b[0m \u001b[0;34m+\u001b[0m \u001b[0;34m' Hello Python!'\u001b[0m\u001b[0;34m\u001b[0m\u001b[0;34m\u001b[0m\u001b[0m\n\u001b[0m\u001b[1;32m      4\u001b[0m \u001b[0;34m\u001b[0m\u001b[0m\n\u001b[1;32m      5\u001b[0m \u001b[0;34m\u001b[0m\u001b[0m\n",
      "\u001b[0;31mUnboundLocalError\u001b[0m: local variable 'msg' referenced before assignment"
     ]
    }
   ],
   "source": [
    "def fun2():\n",
    "    # 只能访问不能修改，将会报错\n",
    "    msg = msg + ' Hello Python!'\n",
    "    \n",
    "\n",
    "fun2()"
   ]
  },
  {
   "cell_type": "code",
   "execution_count": 3,
   "id": "01ab9e1f",
   "metadata": {},
   "outputs": [
    {
     "name": "stdout",
     "output_type": "stream",
     "text": [
      "Hello World!\n",
      "Hello Python!\n"
     ]
    }
   ],
   "source": [
    "def fun3():\n",
    "    msg = 'Hello Python!'\n",
    "    print(msg)\n",
    "    \n",
    "    \n",
    "print(msg)\n",
    "fun3()"
   ]
  },
  {
   "cell_type": "markdown",
   "id": "9c125277",
   "metadata": {},
   "source": [
    "## 全局变量与非局部变量\n",
    "\n",
    "- 全局变量使用 `global` 关键字声明，所有函数均可以访问和修改；\n",
    "- 非局部变量使用 `nonlocal` 关键字声明，仅与上一级函数共享。\n"
   ]
  },
  {
   "cell_type": "code",
   "execution_count": 4,
   "id": "5eab3e48",
   "metadata": {},
   "outputs": [
    {
     "name": "stdout",
     "output_type": "stream",
     "text": [
      "Good Morning!\n",
      "Good Night!\n",
      "Good Night!\n",
      "Good Night!\n",
      "Good Night!\n"
     ]
    }
   ],
   "source": [
    "def fun41():\n",
    "    global global_msg\n",
    "    global_msg = 'Good Afternoon!'\n",
    "    \n",
    "    def fun42():\n",
    "        global global_msg\n",
    "        global_msg = 'Good Evening!'\n",
    "        \n",
    "        def fun43():\n",
    "            global global_msg\n",
    "            global_msg = 'Good Night!'\n",
    "            print(global_msg)\n",
    "        \n",
    "        \n",
    "        fun43()\n",
    "        # fun43被调用后所有 global_msg 重新幅值为 'Good Night!'\n",
    "        print(global_msg)\n",
    "    \n",
    "    fun42()\n",
    "    # 已经被 fun43 重载\n",
    "    print(global_msg)\n",
    "    \n",
    "\n",
    "global_msg = 'Good Morning!'\n",
    "print(global_msg)\n",
    "fun41()\n",
    "print(global_msg)"
   ]
  },
  {
   "cell_type": "code",
   "execution_count": 5,
   "id": "fd326743",
   "metadata": {},
   "outputs": [
    {
     "name": "stdout",
     "output_type": "stream",
     "text": [
      "Good Morning!\n",
      "Good Night!\n",
      "Good Afternoon!\n",
      "Good Morning!\n"
     ]
    }
   ],
   "source": [
    "def fun41():\n",
    "    nonlocal_msg = 'Good Afternoon!'\n",
    "    \n",
    "    def fun42():\n",
    "        nonlocal_msg = 'Good Evening!'\n",
    "        \n",
    "        def fun43():\n",
    "            nonlocal nonlocal_msg\n",
    "            nonlocal_msg = 'Good Night!'\n",
    "        \n",
    "        \n",
    "        fun43()\n",
    "        # 最内层程序调用，并且通过 nonlocal 将变量传递到上一层\n",
    "        # fun42 内部变量被 fun43 重新赋值\n",
    "        print(nonlocal_msg)\n",
    "    \n",
    "    fun42()\n",
    "    # fun42 内部为局部变量，不做传递\n",
    "    print(nonlocal_msg)\n",
    "    \n",
    "\n",
    "nonlocal_msg = 'Good Morning!'\n",
    "print(nonlocal_msg)\n",
    "fun41()\n",
    "print(nonlocal_msg)"
   ]
  }
 ],
 "metadata": {
  "kernelspec": {
   "display_name": "Python 3 (ipykernel)",
   "language": "python",
   "name": "python3"
  },
  "language_info": {
   "codemirror_mode": {
    "name": "ipython",
    "version": 3
   },
   "file_extension": ".py",
   "mimetype": "text/x-python",
   "name": "python",
   "nbconvert_exporter": "python",
   "pygments_lexer": "ipython3",
   "version": "3.9.6"
  }
 },
 "nbformat": 4,
 "nbformat_minor": 5
}
